{
  "nbformat": 4,
  "nbformat_minor": 0,
  "metadata": {
    "colab": {
      "provenance": []
    },
    "kernelspec": {
      "name": "python3",
      "display_name": "Python 3"
    },
    "language_info": {
      "name": "python"
    }
  },
  "cells": [
    {
      "cell_type": "code",
      "execution_count": 1,
      "metadata": {
        "colab": {
          "base_uri": "https://localhost:8080/"
        },
        "id": "FHnoYtjviN6N",
        "outputId": "eed89461-0b9d-4302-8246-deb031e928d5"
      },
      "outputs": [
        {
          "output_type": "stream",
          "name": "stdout",
          "text": [
            "Cloning into 'Unet-Pytorch'...\n",
            "remote: Enumerating objects: 314, done.\u001b[K\n",
            "remote: Counting objects: 100% (39/39), done.\u001b[K\n",
            "remote: Compressing objects: 100% (28/28), done.\u001b[K\n",
            "remote: Total 314 (delta 23), reused 25 (delta 11), pack-reused 275\u001b[K\n",
            "Receiving objects: 100% (314/314), 3.05 MiB | 9.91 MiB/s, done.\n",
            "Resolving deltas: 100% (168/168), done.\n"
          ]
        }
      ],
      "source": [
        "#clone repo\n",
        "!git clone https://github.com/Kikashii/Unet-Pytorch.git"
      ]
    },
    {
      "cell_type": "code",
      "source": [
        "# Go to repo folder\n",
        "%cd Unet-Pytorch/"
      ],
      "metadata": {
        "colab": {
          "base_uri": "https://localhost:8080/"
        },
        "id": "iOSLDZCHiexi",
        "outputId": "a1bb5cf9-38d6-4e2e-9a7e-a57ee957a8b6"
      },
      "execution_count": 3,
      "outputs": [
        {
          "output_type": "stream",
          "name": "stdout",
          "text": [
            "/content/Unet-Pytorch\n"
          ]
        }
      ]
    },
    {
      "cell_type": "code",
      "source": [
        "!ls"
      ],
      "metadata": {
        "colab": {
          "base_uri": "https://localhost:8080/"
        },
        "id": "3IRAv9tGi2PX",
        "outputId": "53a13df3-a242-4b1e-8223-5300f8be0b74"
      },
      "execution_count": 4,
      "outputs": [
        {
          "output_type": "stream",
          "name": "stdout",
          "text": [
            "Code  hyperparameters.txt  Images  README.md  test.txt\n"
          ]
        }
      ]
    },
    {
      "cell_type": "code",
      "source": [
        "# download dataset (this is preprocessed from original data sample containing 30 samples)\n",
        "!gdown 1U282R8qQGLVm1Ian-EttpPniKl5uYJdH"
      ],
      "metadata": {
        "colab": {
          "base_uri": "https://localhost:8080/"
        },
        "id": "i4c3jlqMi_3P",
        "outputId": "8869e92d-81f7-4bae-cf40-32cfb9507016"
      },
      "execution_count": 7,
      "outputs": [
        {
          "output_type": "stream",
          "name": "stdout",
          "text": [
            "Downloading...\n",
            "From (original): https://drive.google.com/uc?id=1U282R8qQGLVm1Ian-EttpPniKl5uYJdH\n",
            "From (redirected): https://drive.google.com/uc?id=1U282R8qQGLVm1Ian-EttpPniKl5uYJdH&confirm=t&uuid=559486f9-df16-46c7-9787-bdf8397a1f47\n",
            "To: /content/Unet-Pytorch/prep.zip\n",
            "100% 67.0M/67.0M [00:03<00:00, 18.5MB/s]\n"
          ]
        }
      ]
    },
    {
      "cell_type": "code",
      "source": [
        "#unzip the data\n",
        "!unzip /content/Unet-Pytorch/prep.zip"
      ],
      "metadata": {
        "id": "ugYfQZN6pQPh"
      },
      "execution_count": null,
      "outputs": []
    },
    {
      "cell_type": "code",
      "source": [
        "%cd Code"
      ],
      "metadata": {
        "colab": {
          "base_uri": "https://localhost:8080/"
        },
        "id": "dPoPvExKp_3W",
        "outputId": "e105ab24-354c-4d5e-c0da-b6c6c5039554"
      },
      "execution_count": 11,
      "outputs": [
        {
          "output_type": "stream",
          "name": "stdout",
          "text": [
            "/content/Unet-Pytorch/Code\n"
          ]
        }
      ]
    },
    {
      "cell_type": "code",
      "source": [
        "!ls"
      ],
      "metadata": {
        "colab": {
          "base_uri": "https://localhost:8080/"
        },
        "id": "UETcLzzYqMxZ",
        "outputId": "05400692-a619-4848-9794-b72232c43382"
      },
      "execution_count": 12,
      "outputs": [
        {
          "output_type": "stream",
          "name": "stdout",
          "text": [
            "brats20_dataset.py  load_hyperparameters.py  model.py  prepare_dataset.py  rendering.py  train.py\n"
          ]
        }
      ]
    },
    {
      "cell_type": "code",
      "source": [
        "!python train.py"
      ],
      "metadata": {
        "colab": {
          "base_uri": "https://localhost:8080/"
        },
        "id": "UCY3fPLjp7KL",
        "outputId": "61b0b6c7-aceb-491d-f423-fc481e0657c1"
      },
      "execution_count": 13,
      "outputs": [
        {
          "output_type": "stream",
          "name": "stdout",
          "text": [
            "  0% 0/378 [00:10<?, ?it/s, loss=0.506]^C\n"
          ]
        }
      ]
    }
  ]
}